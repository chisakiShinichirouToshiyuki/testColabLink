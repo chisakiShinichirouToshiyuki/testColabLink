{
 "cells": [
  {
   "cell_type": "code",
   "execution_count": null,
   "metadata": {},
   "outputs": [],
   "source": [
    "from base import Base # type:ignore\n",
    "\n",
    "from typing import TYPE_CHECKING\n",
    "if TYPE_CHECKING:\n",
    "    from .base_type import Base\n",
    "\n",
    "# 「(x + 2)**2」とprintされれば期待通り\n",
    "base = Base()\n",
    "base.factor('x**2+4*x+4')"
   ]
  }
 ],
 "metadata": {
  "language_info": {
   "name": "python"
  },
  "orig_nbformat": 4
 },
 "nbformat": 4,
 "nbformat_minor": 2
}
